{
 "cells": [
  {
   "cell_type": "code",
   "execution_count": 1,
   "id": "2f5e03b6",
   "metadata": {},
   "outputs": [
    {
     "name": "stdout",
     "output_type": "stream",
     "text": [
      "Zizou,You're normal weight. Keep up with the good diet and exercise\n"
     ]
    }
   ],
   "source": [
    "# Building a BMI calculator\n",
    "# Formular BMI = (weight in pound x 703) / (height in inches x height in inches)\n",
    "Name = input('Please enter your name:')\n",
    "weight = int(input('Enter your weight in pounds:'))\n",
    "Height = int(input('Enter your height in inches:'))\n",
    "BMI  = (weight * 703) / (Height * Height)\n",
    "\n",
    "if BMI > 0:\n",
    "    if (BMI) < 18.5:\n",
    "        print(Name + \",You're underweight. Bulk up by eating more calories\")\n",
    "    elif (BMI<= 24.9):\n",
    "        print(Name + \",You're normal weight. Keep up with the good diet and exercise\")\n",
    "    elif (BMI < 29.9):\n",
    "        print(Name + \",You're overweight. Try exercise more \")\n",
    "    elif (BMI < 34.9):\n",
    "        print(Name + \",You're Obese. Highly risky, you need to massively cut down calories and take exercise serious\")\n",
    "    elif (BMI < 39.9):\n",
    "        print(Name + \",You're severely obese. Highly risky, you need to massively cut down calories and take exercise serious\")\n",
    "    else:\n",
    "        print(Name + \",You're morbidly obese. Highly risky, you need to massively cut down calories and take exercise serious\")\n",
    "else:\n",
    "    print(\"Please enter a valid input\")"
   ]
  }
 ],
 "metadata": {
  "kernelspec": {
   "display_name": "Python 3",
   "language": "python",
   "name": "python3"
  },
  "language_info": {
   "codemirror_mode": {
    "name": "ipython",
    "version": 3
   },
   "file_extension": ".py",
   "mimetype": "text/x-python",
   "name": "python",
   "nbconvert_exporter": "python",
   "pygments_lexer": "ipython3",
   "version": "3.13.4"
  }
 },
 "nbformat": 4,
 "nbformat_minor": 5
}
